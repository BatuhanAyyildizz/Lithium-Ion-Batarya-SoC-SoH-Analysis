{
 "cells": [
  {
   "cell_type": "markdown",
   "metadata": {},
   "source": [
    "# Data Extraction\n"
   ]
  },
  {
   "cell_type": "markdown",
   "metadata": {},
   "source": [
    "## Projemde, .mat uzantılı dosyalarını CSV formatına dönüştürdüm. Capacity değerlerini hesaplayarak yeni CSV dosyaları oluşturdum. Bu CSV dosyaları, .mat uzantılı dosyaların dönüştürülmesiyle elde edilen B0005, B0006,B0007, ve B0018 gibi dosyalardır."
   ]
  },
  {
   "cell_type": "markdown",
   "metadata": {},
   "source": [
    "Dataset link = https://phm-datasets.s3.amazonaws.com/NASA/5.+Battery+Data+Set.zip"
   ]
  },
  {
   "cell_type": "code",
   "execution_count": 31,
   "metadata": {},
   "outputs": [
    {
     "name": "stdout",
     "output_type": "stream",
     "text": [
      "Total data in dataset:  616\n",
      "[1, 24, datetime.datetime(2008, 4, 2, 15, 25, 41), 1.89105229539079, 4.199359521791473, -0.0018658918833680202, 23.93704394613529, -0.0004, 0.0, 0.0]\n",
      "Discharge DataFrame:\n",
      "   cycle  ambient_temperature            datetime  capacity  voltage_measured  \\\n",
      "0      1                   24 2008-04-02 15:25:41  1.891052          4.199360   \n",
      "1      1                   24 2008-04-02 15:25:41  1.891052          4.199497   \n",
      "2      1                   24 2008-04-02 15:25:41  1.891052          3.985606   \n",
      "3      1                   24 2008-04-02 15:25:41  1.891052          3.963247   \n",
      "4      1                   24 2008-04-02 15:25:41  1.891052          3.946647   \n",
      "\n",
      "   current_measured  temperature_measured  current_load  voltage_load    time  \n",
      "0         -0.001866             23.937044       -0.0004         0.000   0.000  \n",
      "1         -0.002139             23.924074       -0.0004         4.215  16.781  \n",
      "2         -1.988778             24.004257       -2.0000         3.003  35.703  \n",
      "3         -1.992558             24.162868       -2.0000         2.987  53.781  \n",
      "4         -1.988491             24.346368       -2.0000         2.972  71.922  \n",
      "\n",
      "Capacity DataFrame:\n",
      "   cycle  ambient_temperature            datetime  capacity\n",
      "0      1                   24 2008-04-02 15:25:41  1.891052\n",
      "1      1                   24 2008-04-02 15:25:41  1.891052\n",
      "2      1                   24 2008-04-02 15:25:41  1.891052\n",
      "3      1                   24 2008-04-02 15:25:41  1.891052\n",
      "4      1                   24 2008-04-02 15:25:41  1.891052\n"
     ]
    }
   ],
   "source": [
    "import datetime\n",
    "import numpy as np\n",
    "import pandas as pd\n",
    "from scipy.io import loadmat\n",
    "from pandas import DataFrame\n",
    "\n",
    "# İstediğiniz bataryanın dosya yoluSnu belirtin\n",
    "battery_file = r'./B0007.mat'  # Dosya yolunu buraya yazın\n",
    "\n",
    "#define a function for extracting discharge and charge data\n",
    "def disch_data(battery_file):\n",
    "  mat = loadmat(battery_file) #get the .mat file\n",
    "  battery = list(mat.keys())[3]  # Battery adını otomatik olarak almak için\n",
    "  print('Total data in dataset: ', len(mat[battery][0, 0]['cycle'][0])) #get the length of the data from number of cycles\n",
    "  c = 0 #set a variable to zero\n",
    "  disdataset = [] #create an empty list for discharge data\n",
    "  capacity_data = []\n",
    "  \n",
    "  for i in range(len(mat[battery][0, 0]['cycle'][0])):\n",
    "    row = mat[battery][0, 0]['cycle'][0, i] #get each row of the cycle\n",
    "    if row['type'][0] == 'discharge': #if the row is a dicharge cycle\n",
    "      ambient_temperature = row['ambient_temperature'][0][0] #get temp,date_time stamp,capacity,voltage,current etc,.\n",
    "      date_time = datetime.datetime(int(row['time'][0][0]),\n",
    "                               int(row['time'][0][1]),\n",
    "                               int(row['time'][0][2]),\n",
    "                               int(row['time'][0][3]),\n",
    "                               int(row['time'][0][4])) + datetime.timedelta(seconds=int(row['time'][0][5]))\n",
    "      data = row['data']\n",
    "      capacity = data[0][0]['Capacity'][0][0]\n",
    "      for j in range(len(data[0][0]['Voltage_measured'][0])):\n",
    "        voltage_measured = data[0][0]['Voltage_measured'][0][j]\n",
    "        current_measured = data[0][0]['Current_measured'][0][j]\n",
    "        temperature_measured = data[0][0]['Temperature_measured'][0][j]\n",
    "        current_load = data[0][0]['Current_load'][0][j]\n",
    "        voltage_load = data[0][0]['Voltage_load'][0][j]\n",
    "        time = data[0][0]['Time'][0][j]\n",
    "        disdataset.append([c + 1, ambient_temperature, date_time, capacity,\n",
    "                        voltage_measured, current_measured,\n",
    "                        temperature_measured, current_load,\n",
    "                        voltage_load, time])\n",
    "        capacity_data.append([c + 1, ambient_temperature, date_time, capacity])\n",
    "      c = c + 1\n",
    "  print(disdataset[0])\n",
    "  return [pd.DataFrame(data=disdataset,\n",
    "                       columns=['cycle', 'ambient_temperature', 'datetime',\n",
    "                                'capacity', 'voltage_measured',\n",
    "                                'current_measured', 'temperature_measured',\n",
    "                                'current_load', 'voltage_load', 'time']),\n",
    "          pd.DataFrame(data=capacity_data,\n",
    "                       columns=['cycle', 'ambient_temperature', 'datetime',\n",
    "                                'capacity'])]\n",
    "\n",
    "def charge_data(battery_file): #similarly write a fn for charge data\n",
    "  mat = loadmat(battery_file)\n",
    "  battery = list(mat.keys())[3]  # Battery adını otomatik olarak almak için\n",
    "  c = 0\n",
    "  chdataset = []\n",
    "  \n",
    "  for i in range(len(mat[battery][0, 0]['cycle'][0])):\n",
    "    row = mat[battery][0, 0]['cycle'][0, i]\n",
    "    if row['type'][0] == 'charge' :\n",
    "            \n",
    "      ambient_temperature = row['ambient_temperature'][0][0]\n",
    "      date_time = datetime.datetime(int(row['time'][0][0]),\n",
    "                               int(row['time'][0][1]),\n",
    "                               int(row['time'][0][2]),\n",
    "                               int(row['time'][0][3]),\n",
    "                               int(row['time'][0][4])) + datetime.timedelta(seconds=int(row['time'][0][5]))\n",
    "      data = row['data']\n",
    "      for j in range(len(data[0][0]['Voltage_measured'][0])):\n",
    "        voltage_measured = data[0][0]['Voltage_measured'][0][j]\n",
    "        current_measured = data[0][0]['Current_measured'][0][j]\n",
    "        temperature_measured = data[0][0]['Temperature_measured'][0][j]\n",
    "        current_charge = data[0][0]['Current_charge'][0][j]\n",
    "        voltage_charge = data[0][0]['Voltage_charge'][0][j]\n",
    "        time = data[0][0]['Time'][0][j]\n",
    "        chdataset.append([c + 1, ambient_temperature, date_time,\n",
    "                        voltage_measured, current_measured,\n",
    "                        temperature_measured, current_charge,\n",
    "                        voltage_charge, time])\n",
    "      c = c + 1\n",
    "  print(chdataset[0])\n",
    "  return pd.DataFrame(data=chdataset,columns=['cycle', 'ambient_temperature', 'datetime', \n",
    "                                'voltage_measured','current_measured',\n",
    "                                'temperature_measured','current_load',\n",
    "                                'voltage_load', 'time'])\n",
    "\n",
    "\n",
    "# disch_data fonksiyonundan dönen DataFrame'leri ayırın\n",
    "dis_df, dis_capacity_df = disch_data(battery_file)\n",
    "\n",
    "# DataFrame'leri ekrana yazdırma\n",
    "pd.set_option('display.max_columns', 10)\n",
    "print(\"Discharge DataFrame:\")\n",
    "print(dis_df.head())\n",
    "print(\"\\nCapacity DataFrame:\")\n",
    "print(dis_capacity_df.head())\n"
   ]
  },
  {
   "cell_type": "code",
   "execution_count": 32,
   "metadata": {},
   "outputs": [
    {
     "name": "stdout",
     "output_type": "stream",
     "text": [
      "Data has been saved to B000asdfg7.csv\n"
     ]
    }
   ],
   "source": [
    "\n",
    "# DataFrame'i CSV dosyasına kaydet\n",
    "csv_file_path = 'B000asdfg7.csv'\n",
    "dis_df.to_csv(csv_file_path, index=False)\n",
    "print(f\"Data has been saved to {csv_file_path}\")\n"
   ]
  },
  {
   "cell_type": "code",
   "execution_count": null,
   "metadata": {},
   "outputs": [],
   "source": []
  }
 ],
 "metadata": {
  "accelerator": "GPU",
  "colab": {
   "collapsed_sections": [],
   "include_colab_link": true,
   "name": "Battery.ipynb",
   "provenance": [],
   "toc_visible": true
  },
  "kernelspec": {
   "display_name": "Python 3 (ipykernel)",
   "language": "python",
   "name": "python3"
  },
  "language_info": {
   "codemirror_mode": {
    "name": "ipython",
    "version": 3
   },
   "file_extension": ".py",
   "mimetype": "text/x-python",
   "name": "python",
   "nbconvert_exporter": "python",
   "pygments_lexer": "ipython3",
   "version": "3.11.5"
  }
 },
 "nbformat": 4,
 "nbformat_minor": 1
}
